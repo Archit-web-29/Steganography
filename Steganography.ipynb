{
 "cells": [
  {
   "cell_type": "code",
   "execution_count": 19,
   "id": "d1a6985d",
   "metadata": {},
   "outputs": [
    {
     "name": "stdout",
     "output_type": "stream",
     "text": [
      "Enter passphrase: art\n",
      "✅ Hidden data embedded and saved as /Users/raviranjan/Documents/Steganography/art.png\n"
     ]
    }
   ],
   "source": [
    "from PIL import Image\n",
    "from getpass import getpass\n",
    "from Crypto.Cipher import AES\n",
    "from Crypto.Protocol.KDF import PBKDF2\n",
    "import os\n",
    "import struct\n",
    "\n",
    "cover_file = \"/Users/raviranjan/Documents/cover_file.png\"\n",
    "embed_file = \"/Users/raviranjan/Documents/secret_essay.txt\"\n",
    "stego_file = \"/Users/raviranjan/Documents/Steganography/art.png\"\n",
    "\n",
    "# ---- Step 1: Read cover image ----\n",
    "img = Image.open(cover_file)\n",
    "if img.mode != \"RGB\":\n",
    "    img = img.convert(\"RGB\")\n",
    "pixels = list(img.getdata())\n",
    "\n",
    "# ---- Step 2: Read & encrypt file ----\n",
    "data = open(embed_file, \"rb\").read()\n",
    "password = input(\"Enter passphrase: \")\n",
    "passphrase = password\n",
    "salt = os.urandom(16)\n",
    "key = PBKDF2(passphrase, salt, dkLen=32, count=100000)\n",
    "cipher = AES.new(key, AES.MODE_GCM)\n",
    "ciphertext, tag = cipher.encrypt_and_digest(data)\n",
    "\n",
    "# format: [salt][nonce][tag][length][ciphertext]\n",
    "payload = salt + cipher.nonce + tag + struct.pack(\">I\", len(ciphertext)) + ciphertext\n",
    "bits = ''.join(format(byte, '08b') for byte in payload)\n",
    "\n",
    "# ---- Step 3: Hide bits in LSB of pixels ----\n",
    "if len(bits) > len(pixels) * 3:\n",
    "    raise ValueError(\"Message too large for this image.\")\n",
    "\n",
    "new_pixels = []\n",
    "bit_idx = 0\n",
    "for r, g, b in pixels:\n",
    "    if bit_idx < len(bits):\n",
    "        r = (r & ~1) | int(bits[bit_idx]); bit_idx += 1\n",
    "    if bit_idx < len(bits):\n",
    "        g = (g & ~1) | int(bits[bit_idx]); bit_idx += 1\n",
    "    if bit_idx < len(bits):\n",
    "        b = (b & ~1) | int(bits[bit_idx]); bit_idx += 1\n",
    "    new_pixels.append((r, g, b))\n",
    "\n",
    "img.putdata(new_pixels)\n",
    "img.save(stego_file, \"PNG\")\n",
    "print(f\"✅ Hidden data embedded and saved as {stego_file}\")\n"
   ]
  },
  {
   "cell_type": "code",
   "execution_count": 20,
   "id": "c0515645",
   "metadata": {},
   "outputs": [
    {
     "name": "stdout",
     "output_type": "stream",
     "text": [
      "Libraries Imported...\n",
      "Steganography and Output file set...\n",
      "Image pixel data extraction done...\n",
      "Converting RGB Pixels into bits...\n",
      "RGB Pixels conversion complete...\n",
      "Converted bits into bytes...\n",
      "Parse header done...\n",
      "\n",
      "Enter passphrase: art\n",
      "Decryption Successful!\n",
      "\n",
      "✅ Extracted and saved to /Users/raviranjan/Documents/Steganography/decoded_file.txt\n"
     ]
    }
   ],
   "source": [
    "from PIL import Image\n",
    "from getpass import getpass\n",
    "from Crypto.Cipher import AES\n",
    "from Crypto.Protocol.KDF import PBKDF2\n",
    "import struct\n",
    "print(\"Libraries Imported...\")\n",
    "\n",
    "stego_file = \"/Users/raviranjan/Documents/Steganography/art.png\"\n",
    "output_file = \"/Users/raviranjan/Documents/Steganography/decoded_file.txt\"\n",
    "print(\"Steganography and Output file set...\")\n",
    "\n",
    "img = Image.open(stego_file)\n",
    "pixels = list(img.getdata())\n",
    "print(\"Image pixel data extraction done...\")\n",
    "\n",
    "print(\"Converting RGB Pixels into bits (takes time)...\")\n",
    "bits = \"\"\n",
    "for r, g, b in pixels:\n",
    "    bits += str(r & 1)\n",
    "    bits += str(g & 1)\n",
    "    bits += str(b & 1)\n",
    "print(\"RGB Pixels conversion complete...\")\n",
    "\n",
    "# Convert bits to bytes\n",
    "data = int(bits, 2).to_bytes((len(bits) + 7) // 8, byteorder=\"big\")\n",
    "print(\"Converted bits into bytes...\")\n",
    "\n",
    "# Parse header\n",
    "salt = data[:16]\n",
    "nonce = data[16:32]\n",
    "tag = data[32:48]\n",
    "length = struct.unpack(\">I\", data[48:52])[0]\n",
    "ciphertext = data[52:52+length]\n",
    "print(\"Parse header done...\")\n",
    "print()\n",
    "\n",
    "password = input(\"Enter passphrase: \")\n",
    "passphrase = password\n",
    "key = PBKDF2(passphrase, salt, dkLen=32, count=100000)\n",
    "cipher = AES.new(key, AES.MODE_GCM, nonce=nonce)\n",
    "plaintext = cipher.decrypt_and_verify(ciphertext, tag)\n",
    "print(\"Decryption Successful!\")\n",
    "print()\n",
    "\n",
    "with open(output_file, \"wb\") as f:\n",
    "    f.write(plaintext)\n",
    "print(f\"✅ Extracted and saved to {output_file}\")\n"
   ]
  },
  {
   "cell_type": "code",
   "execution_count": null,
   "id": "5bcaee32",
   "metadata": {},
   "outputs": [],
   "source": []
  }
 ],
 "metadata": {
  "kernelspec": {
   "display_name": "Python 3 (ipykernel)",
   "language": "python",
   "name": "python3"
  },
  "language_info": {
   "codemirror_mode": {
    "name": "ipython",
    "version": 3
   },
   "file_extension": ".py",
   "mimetype": "text/x-python",
   "name": "python",
   "nbconvert_exporter": "python",
   "pygments_lexer": "ipython3",
   "version": "3.12.4"
  }
 },
 "nbformat": 4,
 "nbformat_minor": 5
}
